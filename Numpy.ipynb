{
  "nbformat": 4,
  "nbformat_minor": 0,
  "metadata": {
    "colab": {
      "provenance": [],
      "authorship_tag": "ABX9TyMYI252+wuUb7bBlqCXTbTb",
      "include_colab_link": true
    },
    "kernelspec": {
      "name": "python3",
      "display_name": "Python 3"
    },
    "language_info": {
      "name": "python"
    }
  },
  "cells": [
    {
      "cell_type": "markdown",
      "metadata": {
        "id": "view-in-github",
        "colab_type": "text"
      },
      "source": [
        "<a href=\"https://colab.research.google.com/github/Prof-S/Prof-S.github.io/blob/master/Numpy.ipynb\" target=\"_parent\"><img src=\"https://colab.research.google.com/assets/colab-badge.svg\" alt=\"Open In Colab\"/></a>"
      ]
    },
    {
      "cell_type": "markdown",
      "source": [
        "##Pytorch tensors and NumPy\n",
        "\n",
        "Numpy is a popular scientific python numerical computing library\n",
        "\n",
        "and PyTorch has functionality to interact with it\n",
        "* Data in Numpy, want to PyTorch Tensor - > `torch.from_numpy(ndarray)`\n",
        "* PyTorch tensor -> NumPy - `torch.Tensor.numpy()`\n"
      ],
      "metadata": {
        "id": "i6NE3rjvZTkF"
      }
    },
    {
      "cell_type": "code",
      "source": [
        "#Numpy array to tensor\n",
        "import torch\n",
        "import numpy as np\n",
        "\n",
        "array = np.arange(1.0,8.0)\n",
        "tensor = torch.from_numpy(array) #when converting from numpy - > pytorch, pytorch reflects numpy's default datatype of float64  unless specified otherwise\n",
        "array, tensor\n"
      ],
      "metadata": {
        "colab": {
          "base_uri": "https://localhost:8080/"
        },
        "id": "sJKg_QkJZjqg",
        "outputId": "1bffeb61-27b1-43c4-9c93-f9261ef0b5ce"
      },
      "execution_count": 3,
      "outputs": [
        {
          "output_type": "execute_result",
          "data": {
            "text/plain": [
              "(array([1., 2., 3., 4., 5., 6., 7.]),\n",
              " tensor([1., 2., 3., 4., 5., 6., 7.], dtype=torch.float64))"
            ]
          },
          "metadata": {},
          "execution_count": 3
        }
      ]
    },
    {
      "cell_type": "code",
      "source": [
        "#numpy default datatype\n",
        "array.dtype"
      ],
      "metadata": {
        "colab": {
          "base_uri": "https://localhost:8080/"
        },
        "id": "21bI_JYrZhww",
        "outputId": "bd878564-d712-48e4-f840-df7236485898"
      },
      "execution_count": 5,
      "outputs": [
        {
          "output_type": "execute_result",
          "data": {
            "text/plain": [
              "dtype('float64')"
            ]
          },
          "metadata": {},
          "execution_count": 5
        }
      ]
    },
    {
      "cell_type": "markdown",
      "source": [
        "#Reproducibility (taking random out of the random)\n",
        "* In short how the nueral network learns:\n",
        "* `start with random numbers -> tensor oprations  -> update random numnbers to try and make them better representations of the data (again and again)...`\n",
        "\n",
        "To reduce the randomness in the neural networks, PyTorch comes with the concept of a **random seed**.\n",
        "\n",
        "random seed: puts a flavour to the randomness (its random psuedorandomness).\n"
      ],
      "metadata": {
        "id": "5ippWqBldsp1"
      }
    }
  ]
}